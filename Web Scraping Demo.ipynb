{
 "cells": [
  {
   "cell_type": "markdown",
   "id": "f3b037c7-1034-4607-a00c-c4860491f98f",
   "metadata": {},
   "source": [
    "### Import Required Libraries."
   ]
  },
  {
   "cell_type": "code",
   "execution_count": 1,
   "id": "2b7fb995-1c61-4dbf-9ffd-26556e488283",
   "metadata": {},
   "outputs": [],
   "source": [
    "import pandas as pd \n",
    "import requests\n",
    "from bs4 import BeautifulSoup\n",
    "import numpy as np"
   ]
  },
  {
   "cell_type": "markdown",
   "id": "8494c5bf-b169-4b24-8769-13f0031fc018",
   "metadata": {},
   "source": [
    "#### If response code is 403, then"
   ]
  },
  {
   "cell_type": "markdown",
   "id": "cca663c4-b6f9-4b23-a563-c60e44fd92fa",
   "metadata": {},
   "source": [
    "##### use the given below header.\n",
    "- headers={'User-Agent':'Mozilla/5.0 (Windows NT 6.3; Win 64 ; x64) Apple WeKit /537.36(KHTML , like Gecko) Chrome/80.0.3987.162     Safari/537.36'} \n",
    "- requests.get('url',headers=headers).text"
   ]
  },
  {
   "cell_type": "markdown",
   "id": "f80a5982-e000-4868-ac56-de39f31cf52e",
   "metadata": {},
   "source": [
    "### Data from Books to Scrape using web Scraping."
   ]
  },
  {
   "cell_type": "code",
   "execution_count": 13,
   "id": "020b00e1-360a-4f5b-8389-b9e0ddac2667",
   "metadata": {},
   "outputs": [
    {
     "data": {
      "text/plain": [
       "<Response [200]>"
      ]
     },
     "execution_count": 13,
     "metadata": {},
     "output_type": "execute_result"
    }
   ],
   "source": [
    "url = 'https://books.toscrape.com/catalogue/category/books_1/page-1.html'\n",
    "\n",
    "response_webpage = requests.get(url)\n",
    "response_webpage"
   ]
  },
  {
   "cell_type": "code",
   "execution_count": 60,
   "id": "18406390-5577-47c9-b158-8fcf59300949",
   "metadata": {},
   "outputs": [],
   "source": [
    "soup = BeautifulSoup(response_webpage.text, 'html.parser')"
   ]
  },
  {
   "cell_type": "code",
   "execution_count": 28,
   "id": "818606c7-75c5-4de7-a0cb-a3f733a3fc4b",
   "metadata": {},
   "outputs": [],
   "source": [
    "all_books = soup.find_all('article', class_ = 'product_pod')"
   ]
  },
  {
   "cell_type": "markdown",
   "id": "98271016-01f9-4579-8a2b-766493a409d4",
   "metadata": {},
   "source": [
    "#### Final Code for all the pages after handling pagination"
   ]
  },
  {
   "cell_type": "code",
   "execution_count": 79,
   "id": "0d75c375-80a5-4563-af87-ffea52991308",
   "metadata": {},
   "outputs": [],
   "source": [
    "titles = [] \n",
    "prices = []\n",
    "in_stock = []\n",
    "\n",
    "for i in range(1, 51): \n",
    "    url = 'https://books.toscrape.com/catalogue/category/books_1/page-{}.html'.format(i) \n",
    "    response_webpage = requests.get(url)\n",
    "    soup = BeautifulSoup(response_webpage.text, 'html.parser')\n",
    "\n",
    "    all_books = soup.find_all('article', class_ = 'product_pod') \n",
    "    \n",
    "    for book in all_books:\n",
    "        titles.append(book.find_all('a')[1].text)\n",
    "        prices.append('$' + book.find('p', class_ = 'price_color').text[2 : ])\n",
    "        in_stock.append(book.find('p', class_ = 'instock').text.strip())"
   ]
  },
  {
   "cell_type": "code",
   "execution_count": 80,
   "id": "7f55390c-2503-4d4a-922f-a6cd1ec4f8b3",
   "metadata": {},
   "outputs": [],
   "source": [
    "final_data = {'Titles' : titles, 'Prices' : prices, 'In_stock?' : in_stock}"
   ]
  },
  {
   "cell_type": "code",
   "execution_count": 81,
   "id": "d8267dd0-9f6c-4e10-aeee-bffe20d4f030",
   "metadata": {},
   "outputs": [
    {
     "data": {
      "text/html": [
       "<div>\n",
       "<style scoped>\n",
       "    .dataframe tbody tr th:only-of-type {\n",
       "        vertical-align: middle;\n",
       "    }\n",
       "\n",
       "    .dataframe tbody tr th {\n",
       "        vertical-align: top;\n",
       "    }\n",
       "\n",
       "    .dataframe thead th {\n",
       "        text-align: right;\n",
       "    }\n",
       "</style>\n",
       "<table border=\"1\" class=\"dataframe\">\n",
       "  <thead>\n",
       "    <tr style=\"text-align: right;\">\n",
       "      <th></th>\n",
       "      <th>Titles</th>\n",
       "      <th>Prices</th>\n",
       "      <th>In_stock?</th>\n",
       "    </tr>\n",
       "  </thead>\n",
       "  <tbody>\n",
       "    <tr>\n",
       "      <th>0</th>\n",
       "      <td>A Light in the ...</td>\n",
       "      <td>$51.77</td>\n",
       "      <td>In stock</td>\n",
       "    </tr>\n",
       "    <tr>\n",
       "      <th>1</th>\n",
       "      <td>Tipping the Velvet</td>\n",
       "      <td>$53.74</td>\n",
       "      <td>In stock</td>\n",
       "    </tr>\n",
       "    <tr>\n",
       "      <th>2</th>\n",
       "      <td>Soumission</td>\n",
       "      <td>$50.10</td>\n",
       "      <td>In stock</td>\n",
       "    </tr>\n",
       "    <tr>\n",
       "      <th>3</th>\n",
       "      <td>Sharp Objects</td>\n",
       "      <td>$47.82</td>\n",
       "      <td>In stock</td>\n",
       "    </tr>\n",
       "    <tr>\n",
       "      <th>4</th>\n",
       "      <td>Sapiens: A Brief History ...</td>\n",
       "      <td>$54.23</td>\n",
       "      <td>In stock</td>\n",
       "    </tr>\n",
       "    <tr>\n",
       "      <th>...</th>\n",
       "      <td>...</td>\n",
       "      <td>...</td>\n",
       "      <td>...</td>\n",
       "    </tr>\n",
       "    <tr>\n",
       "      <th>995</th>\n",
       "      <td>Alice in Wonderland (Alice's ...</td>\n",
       "      <td>$55.53</td>\n",
       "      <td>In stock</td>\n",
       "    </tr>\n",
       "    <tr>\n",
       "      <th>996</th>\n",
       "      <td>Ajin: Demi-Human, Volume 1 ...</td>\n",
       "      <td>$57.06</td>\n",
       "      <td>In stock</td>\n",
       "    </tr>\n",
       "    <tr>\n",
       "      <th>997</th>\n",
       "      <td>A Spy's Devotion (The ...</td>\n",
       "      <td>$16.97</td>\n",
       "      <td>In stock</td>\n",
       "    </tr>\n",
       "    <tr>\n",
       "      <th>998</th>\n",
       "      <td>1st to Die (Women's ...</td>\n",
       "      <td>$53.98</td>\n",
       "      <td>In stock</td>\n",
       "    </tr>\n",
       "    <tr>\n",
       "      <th>999</th>\n",
       "      <td>1,000 Places to See ...</td>\n",
       "      <td>$26.08</td>\n",
       "      <td>In stock</td>\n",
       "    </tr>\n",
       "  </tbody>\n",
       "</table>\n",
       "<p>1000 rows × 3 columns</p>\n",
       "</div>"
      ],
      "text/plain": [
       "                               Titles  Prices In_stock?\n",
       "0                  A Light in the ...  $51.77  In stock\n",
       "1                  Tipping the Velvet  $53.74  In stock\n",
       "2                          Soumission  $50.10  In stock\n",
       "3                       Sharp Objects  $47.82  In stock\n",
       "4        Sapiens: A Brief History ...  $54.23  In stock\n",
       "..                                ...     ...       ...\n",
       "995  Alice in Wonderland (Alice's ...  $55.53  In stock\n",
       "996    Ajin: Demi-Human, Volume 1 ...  $57.06  In stock\n",
       "997         A Spy's Devotion (The ...  $16.97  In stock\n",
       "998           1st to Die (Women's ...  $53.98  In stock\n",
       "999           1,000 Places to See ...  $26.08  In stock\n",
       "\n",
       "[1000 rows x 3 columns]"
      ]
     },
     "execution_count": 81,
     "metadata": {},
     "output_type": "execute_result"
    }
   ],
   "source": [
    "pd.DataFrame(final_data)"
   ]
  },
  {
   "cell_type": "markdown",
   "id": "9b3a9142-4fee-4bfe-8ffb-bd6d3d0da41c",
   "metadata": {},
   "source": [
    "### Data from Data.gov using web Scraping."
   ]
  },
  {
   "cell_type": "code",
   "execution_count": 85,
   "id": "fe3debd3-2337-4297-b7ec-f56560c55b3d",
   "metadata": {},
   "outputs": [
    {
     "data": {
      "text/plain": [
       "<Response [200]>"
      ]
     },
     "execution_count": 85,
     "metadata": {},
     "output_type": "execute_result"
    }
   ],
   "source": [
    "url = 'https://catalog.data.gov/dataset/?page=1'\n",
    "\n",
    "response_webpage = requests.get(url)\n",
    "response_webpage"
   ]
  },
  {
   "cell_type": "code",
   "execution_count": 90,
   "id": "f84b8ad3-8615-4b55-8cf4-e77208906383",
   "metadata": {},
   "outputs": [],
   "source": [
    "soup = BeautifulSoup(response_webpage.text, 'html.parser')"
   ]
  },
  {
   "cell_type": "code",
   "execution_count": 91,
   "id": "e1cc677d-ca1d-4138-b02f-1a28e2ba6e88",
   "metadata": {},
   "outputs": [],
   "source": [
    "all_dataset = soup.find_all('li', class_ = 'dataset-item')"
   ]
  },
  {
   "cell_type": "code",
   "execution_count": 99,
   "id": "2aefb640-e2a4-4ed7-8559-d0c28f2d1af6",
   "metadata": {},
   "outputs": [
    {
     "data": {
      "text/plain": [
       "'Electric Vehicle Population Data'"
      ]
     },
     "execution_count": 99,
     "metadata": {},
     "output_type": "execute_result"
    }
   ],
   "source": [
    "# find the Title of the dataset.\n",
    "all_dataset[0].find('h3', class_ = 'dataset-heading').find('a').text"
   ]
  },
  {
   "cell_type": "code",
   "execution_count": 103,
   "id": "67c26fb8-4ff7-415e-963d-92767ea24161",
   "metadata": {},
   "outputs": [
    {
     "data": {
      "text/plain": [
       "'State'"
      ]
     },
     "execution_count": 103,
     "metadata": {},
     "output_type": "execute_result"
    }
   ],
   "source": [
    "# find the organisation type.\n",
    "all_dataset[0].find('span', class_ = 'organization-type').find('span').text"
   ]
  },
  {
   "cell_type": "code",
   "execution_count": 105,
   "id": "71bab865-90fb-4567-b2c7-5348c8cbb560",
   "metadata": {},
   "outputs": [
    {
     "data": {
      "text/plain": [
       "'State of Washington —'"
      ]
     },
     "execution_count": 105,
     "metadata": {},
     "output_type": "execute_result"
    }
   ],
   "source": [
    "# find the organisation of the dataset.\n",
    "all_dataset[0].find('p', class_ = 'dataset-organization').text"
   ]
  },
  {
   "cell_type": "code",
   "execution_count": 109,
   "id": "d5bee1cd-df42-4117-a953-7aac0ba52acd",
   "metadata": {},
   "outputs": [
    {
     "data": {
      "text/plain": [
       "'This dataset shows the Battery Electric Vehicles (BEVs) and Plug-in Hybrid Electric Vehicles (PHEVs) that are currently registered through Washington State Department...'"
      ]
     },
     "execution_count": 109,
     "metadata": {},
     "output_type": "execute_result"
    }
   ],
   "source": [
    "# find the description of the dataset.\n",
    "all_dataset[0].find('div', class_ = 'notes').find('div').text"
   ]
  },
  {
   "cell_type": "code",
   "execution_count": 119,
   "id": "93f65d23-8311-417a-98dd-1917821b7ecc",
   "metadata": {},
   "outputs": [
    {
     "data": {
      "text/plain": [
       "['CSV', 'RDF', 'JSON', 'XML']"
      ]
     },
     "execution_count": 119,
     "metadata": {},
     "output_type": "execute_result"
    }
   ],
   "source": [
    "# find the format of the dataset available. \n",
    "available_formats = []\n",
    "all_format = all_dataset[0].find('ul', class_ = 'dataset-resources').find_all('li')\n",
    "for formats in all_format: \n",
    "    available_formats.append(formats.find_all('a')[0].text)\n",
    "\n",
    "available_formats"
   ]
  },
  {
   "cell_type": "code",
   "execution_count": 199,
   "id": "39eb0423-fc58-4371-9e85-08ead5fca71d",
   "metadata": {},
   "outputs": [],
   "source": [
    "dataset_name = [] \n",
    "organisation_type = []\n",
    "dataset_organisation = []\n",
    "dataset_description = []\n",
    "\n",
    "for i in range(1, 5): \n",
    "    url = 'https://catalog.data.gov/dataset/?page={}'.format(i)\n",
    "    response_webpage = requests.get(url)\n",
    "    soup = BeautifulSoup(response_webpage.text, 'html.parser')\n",
    "\n",
    "    all_dataset = soup.find_all('li', class_ = 'dataset-item') \n",
    "\n",
    "    for dataset in all_dataset: \n",
    "        dataset_name.append(dataset.find('h3', class_ = 'dataset-heading').find('a').text)\n",
    "        organisation_type.append(dataset.find('span', class_ = 'organization-type').find('span').text)\n",
    "        dataset_organisation.append(dataset.find('p', class_ = 'dataset-organization').text)\n",
    "        dataset_description.append(dataset.find('div', class_ = 'notes').find('div').text)\n"
   ]
  },
  {
   "cell_type": "code",
   "execution_count": 200,
   "id": "caafe76d-ee35-42bb-977e-c41db4fff261",
   "metadata": {},
   "outputs": [],
   "source": [
    "final_data = {\n",
    "    'Dataset_name' : dataset_name, \n",
    "    'Organisation_type' : organisation_type, \n",
    "    'Datasets_organisation' : dataset_organisation, \n",
    "    'Description' : dataset_description, \n",
    "}"
   ]
  },
  {
   "cell_type": "code",
   "execution_count": 201,
   "id": "1c9c6744-ca3d-43cb-a1d8-4574f2677e42",
   "metadata": {},
   "outputs": [],
   "source": [
    "datasets = pd.DataFrame(final_data)"
   ]
  },
  {
   "cell_type": "code",
   "execution_count": 202,
   "id": "838a71a2-3ade-4afe-ba8c-b5fdb2c26a70",
   "metadata": {},
   "outputs": [
    {
     "data": {
      "text/html": [
       "<div>\n",
       "<style scoped>\n",
       "    .dataframe tbody tr th:only-of-type {\n",
       "        vertical-align: middle;\n",
       "    }\n",
       "\n",
       "    .dataframe tbody tr th {\n",
       "        vertical-align: top;\n",
       "    }\n",
       "\n",
       "    .dataframe thead th {\n",
       "        text-align: right;\n",
       "    }\n",
       "</style>\n",
       "<table border=\"1\" class=\"dataframe\">\n",
       "  <thead>\n",
       "    <tr style=\"text-align: right;\">\n",
       "      <th></th>\n",
       "      <th>Dataset_name</th>\n",
       "      <th>Organisation_type</th>\n",
       "      <th>Datasets_organisation</th>\n",
       "      <th>Description</th>\n",
       "    </tr>\n",
       "  </thead>\n",
       "  <tbody>\n",
       "    <tr>\n",
       "      <th>0</th>\n",
       "      <td>Electric Vehicle Population Data</td>\n",
       "      <td>State</td>\n",
       "      <td>State of Washington —</td>\n",
       "      <td>This dataset shows the Battery Electric Vehicl...</td>\n",
       "    </tr>\n",
       "    <tr>\n",
       "      <th>1</th>\n",
       "      <td>Supply Chain Greenhouse Gas Emission Factors v...</td>\n",
       "      <td>Federal</td>\n",
       "      <td>U.S. Environmental Protection Agency —</td>\n",
       "      <td>The datasets comprise greenhouse gas (GHG) emi...</td>\n",
       "    </tr>\n",
       "    <tr>\n",
       "      <th>2</th>\n",
       "      <td>Dynamic Small Business Search (DSBS)</td>\n",
       "      <td>Federal</td>\n",
       "      <td>Small Business Administration —</td>\n",
       "      <td>The Small Business Administration maintains th...</td>\n",
       "    </tr>\n",
       "    <tr>\n",
       "      <th>3</th>\n",
       "      <td>Border Crossing Entry Data</td>\n",
       "      <td>Federal</td>\n",
       "      <td>Department of Transportation —</td>\n",
       "      <td>The Bureau of Transportation Statistics (BTS) ...</td>\n",
       "    </tr>\n",
       "    <tr>\n",
       "      <th>4</th>\n",
       "      <td>MTA LIRR Major Incidents: Beginning 2020</td>\n",
       "      <td>State</td>\n",
       "      <td>State of New York —</td>\n",
       "      <td>This dataset is of major incidents on the LIRR...</td>\n",
       "    </tr>\n",
       "    <tr>\n",
       "      <th>...</th>\n",
       "      <td>...</td>\n",
       "      <td>...</td>\n",
       "      <td>...</td>\n",
       "      <td>...</td>\n",
       "    </tr>\n",
       "    <tr>\n",
       "      <th>75</th>\n",
       "      <td>Air Traffic Passenger Statistics</td>\n",
       "      <td>City</td>\n",
       "      <td>City of San Francisco —</td>\n",
       "      <td>A. SUMMARY San Francisco International Airport...</td>\n",
       "    </tr>\n",
       "    <tr>\n",
       "      <th>76</th>\n",
       "      <td>EPA Tribes (3 of 6): American Indian Reservations</td>\n",
       "      <td>Federal</td>\n",
       "      <td>U.S. Environmental Protection Agency —</td>\n",
       "      <td>This layer represents locations of American In...</td>\n",
       "    </tr>\n",
       "    <tr>\n",
       "      <th>77</th>\n",
       "      <td>Event-correlated Outage Dataset in America</td>\n",
       "      <td>Federal</td>\n",
       "      <td>Department of Energy —</td>\n",
       "      <td>This dataset includes an aggregated and event-...</td>\n",
       "    </tr>\n",
       "    <tr>\n",
       "      <th>78</th>\n",
       "      <td>Crime Reports</td>\n",
       "      <td>City</td>\n",
       "      <td>City of Austin —</td>\n",
       "      <td>AUSTIN POLICE DEPARTMENT DATA DISCLAIMER Pleas...</td>\n",
       "    </tr>\n",
       "    <tr>\n",
       "      <th>79</th>\n",
       "      <td>Mental Health Care in the Last 4 Weeks</td>\n",
       "      <td>Federal</td>\n",
       "      <td>U.S. Department of Health &amp; Human Services —</td>\n",
       "      <td>The U.S. Census Bureau, in collaboration with ...</td>\n",
       "    </tr>\n",
       "  </tbody>\n",
       "</table>\n",
       "<p>80 rows × 4 columns</p>\n",
       "</div>"
      ],
      "text/plain": [
       "                                         Dataset_name Organisation_type  \\\n",
       "0                    Electric Vehicle Population Data             State   \n",
       "1   Supply Chain Greenhouse Gas Emission Factors v...           Federal   \n",
       "2                Dynamic Small Business Search (DSBS)           Federal   \n",
       "3                          Border Crossing Entry Data           Federal   \n",
       "4            MTA LIRR Major Incidents: Beginning 2020             State   \n",
       "..                                                ...               ...   \n",
       "75                   Air Traffic Passenger Statistics              City   \n",
       "76  EPA Tribes (3 of 6): American Indian Reservations           Federal   \n",
       "77         Event-correlated Outage Dataset in America           Federal   \n",
       "78                                      Crime Reports              City   \n",
       "79             Mental Health Care in the Last 4 Weeks           Federal   \n",
       "\n",
       "                           Datasets_organisation  \\\n",
       "0                          State of Washington —   \n",
       "1         U.S. Environmental Protection Agency —   \n",
       "2                Small Business Administration —   \n",
       "3                 Department of Transportation —   \n",
       "4                            State of New York —   \n",
       "..                                           ...   \n",
       "75                       City of San Francisco —   \n",
       "76        U.S. Environmental Protection Agency —   \n",
       "77                        Department of Energy —   \n",
       "78                              City of Austin —   \n",
       "79  U.S. Department of Health & Human Services —   \n",
       "\n",
       "                                          Description  \n",
       "0   This dataset shows the Battery Electric Vehicl...  \n",
       "1   The datasets comprise greenhouse gas (GHG) emi...  \n",
       "2   The Small Business Administration maintains th...  \n",
       "3   The Bureau of Transportation Statistics (BTS) ...  \n",
       "4   This dataset is of major incidents on the LIRR...  \n",
       "..                                                ...  \n",
       "75  A. SUMMARY San Francisco International Airport...  \n",
       "76  This layer represents locations of American In...  \n",
       "77  This dataset includes an aggregated and event-...  \n",
       "78  AUSTIN POLICE DEPARTMENT DATA DISCLAIMER Pleas...  \n",
       "79  The U.S. Census Bureau, in collaboration with ...  \n",
       "\n",
       "[80 rows x 4 columns]"
      ]
     },
     "execution_count": 202,
     "metadata": {},
     "output_type": "execute_result"
    }
   ],
   "source": [
    "datasets"
   ]
  },
  {
   "cell_type": "code",
   "execution_count": null,
   "id": "eb59ebe6-a3cc-4c64-bb36-38b6d1ab414e",
   "metadata": {},
   "outputs": [],
   "source": []
  }
 ],
 "metadata": {
  "kernelspec": {
   "display_name": "Python 3 (ipykernel)",
   "language": "python",
   "name": "python3"
  },
  "language_info": {
   "codemirror_mode": {
    "name": "ipython",
    "version": 3
   },
   "file_extension": ".py",
   "mimetype": "text/x-python",
   "name": "python",
   "nbconvert_exporter": "python",
   "pygments_lexer": "ipython3",
   "version": "3.13.1"
  }
 },
 "nbformat": 4,
 "nbformat_minor": 5
}
