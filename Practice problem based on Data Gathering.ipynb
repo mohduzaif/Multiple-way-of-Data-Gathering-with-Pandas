{
 "cells": [
  {
   "cell_type": "code",
   "execution_count": 1,
   "id": "f23a997f-5532-4916-88b4-c32f1ea17411",
   "metadata": {},
   "outputs": [],
   "source": [
    "import pandas as pd  \n",
    "import requests"
   ]
  },
  {
   "cell_type": "markdown",
   "id": "f0bf3430-dbb2-4da9-bdd2-356e3e5d1a5e",
   "metadata": {},
   "source": [
    "### Problem-1:\n",
    "\n",
    "You are given a SQL file link: https://drive.google.com/file/d/1WFt7B84LTHhMueoKmz8W-PRo7xXqmZf3/view?usp=share_link. Read the data by using the file and store it in a excel file. In this data, there are 3 tables named \"invoices\", \"order_leads\" and \"sales_sql\". So create 3 sheets to your excel file."
   ]
  },
  {
   "cell_type": "markdown",
   "id": "6b936dab-6ce1-403b-8bc0-56200a2a7b4e",
   "metadata": {},
   "source": [
    "`NOTE : ` Here we need to install mysql.connector library, that makes a connection between python and mysql. We can also called it as bridge between python and mysql."
   ]
  },
  {
   "cell_type": "code",
   "execution_count": 10,
   "id": "095b4dc0-0951-495c-a7eb-317474953419",
   "metadata": {},
   "outputs": [],
   "source": [
    "# mysql.connector.Connect(host = 'Server(where database is stored)', user = 'root', password = 'empty here', database = 'db name')\n",
    "mysql_connector = mysql.connector.Connect(host = 'localhost', user = 'root', password = '', database = 'supermarket')"
   ]
  },
  {
   "cell_type": "code",
   "execution_count": 25,
   "id": "5fbe3644-10f2-438f-b41b-c2416e941dfe",
   "metadata": {},
   "outputs": [
    {
     "name": "stdout",
     "output_type": "stream",
     "text": [
      "Collecting mysql-connector-python\n",
      "  Downloading mysql_connector_python-9.4.0-cp313-cp313-win_amd64.whl.metadata (7.7 kB)\n",
      "Downloading mysql_connector_python-9.4.0-cp313-cp313-win_amd64.whl (16.4 MB)\n",
      "   ---------------------------------------- 0.0/16.4 MB ? eta -:--:--\n",
      "   - -------------------------------------- 0.8/16.4 MB 4.6 MB/s eta 0:00:04\n",
      "   -- ------------------------------------- 1.0/16.4 MB 2.2 MB/s eta 0:00:07\n",
      "   --- ------------------------------------ 1.3/16.4 MB 2.0 MB/s eta 0:00:08\n",
      "   --- ------------------------------------ 1.6/16.4 MB 1.8 MB/s eta 0:00:09\n",
      "   --- ------------------------------------ 1.6/16.4 MB 1.8 MB/s eta 0:00:09\n",
      "   ---- ----------------------------------- 1.8/16.4 MB 1.4 MB/s eta 0:00:11\n",
      "   ---- ----------------------------------- 1.8/16.4 MB 1.4 MB/s eta 0:00:11\n",
      "   ----- ---------------------------------- 2.1/16.4 MB 1.2 MB/s eta 0:00:13\n",
      "   ----- ---------------------------------- 2.4/16.4 MB 1.2 MB/s eta 0:00:13\n",
      "   ----- ---------------------------------- 2.4/16.4 MB 1.2 MB/s eta 0:00:13\n",
      "   ----- ---------------------------------- 2.4/16.4 MB 1.2 MB/s eta 0:00:13\n",
      "   ----- ---------------------------------- 2.4/16.4 MB 1.2 MB/s eta 0:00:13\n",
      "   ----- ---------------------------------- 2.4/16.4 MB 1.2 MB/s eta 0:00:13\n",
      "   ----- ---------------------------------- 2.4/16.4 MB 1.2 MB/s eta 0:00:13\n",
      "   ------ --------------------------------- 2.6/16.4 MB 783.5 kB/s eta 0:00:18\n",
      "   ------ --------------------------------- 2.6/16.4 MB 783.5 kB/s eta 0:00:18\n",
      "   ------ --------------------------------- 2.6/16.4 MB 783.5 kB/s eta 0:00:18\n",
      "   ------ --------------------------------- 2.6/16.4 MB 783.5 kB/s eta 0:00:18\n",
      "   ------ --------------------------------- 2.6/16.4 MB 783.5 kB/s eta 0:00:18\n",
      "   ------ --------------------------------- 2.6/16.4 MB 783.5 kB/s eta 0:00:18\n",
      "   ------ --------------------------------- 2.6/16.4 MB 783.5 kB/s eta 0:00:18\n",
      "   ------ --------------------------------- 2.6/16.4 MB 783.5 kB/s eta 0:00:18\n",
      "   ------ --------------------------------- 2.6/16.4 MB 783.5 kB/s eta 0:00:18\n",
      "   ------- -------------------------------- 2.9/16.4 MB 535.7 kB/s eta 0:00:26\n",
      "   ------- -------------------------------- 2.9/16.4 MB 535.7 kB/s eta 0:00:26\n",
      "   ------- -------------------------------- 2.9/16.4 MB 535.7 kB/s eta 0:00:26\n",
      "   ------- -------------------------------- 2.9/16.4 MB 535.7 kB/s eta 0:00:26\n",
      "   ------- -------------------------------- 2.9/16.4 MB 535.7 kB/s eta 0:00:26\n",
      "   ------- -------------------------------- 2.9/16.4 MB 535.7 kB/s eta 0:00:26\n",
      "   ------- -------------------------------- 3.1/16.4 MB 470.5 kB/s eta 0:00:29\n",
      "   ------- -------------------------------- 3.1/16.4 MB 470.5 kB/s eta 0:00:29\n",
      "   ------- -------------------------------- 3.1/16.4 MB 470.5 kB/s eta 0:00:29\n",
      "   ------- -------------------------------- 3.1/16.4 MB 470.5 kB/s eta 0:00:29\n",
      "   ------- -------------------------------- 3.1/16.4 MB 470.5 kB/s eta 0:00:29\n",
      "   ------- -------------------------------- 3.1/16.4 MB 470.5 kB/s eta 0:00:29\n",
      "   ------- -------------------------------- 3.1/16.4 MB 470.5 kB/s eta 0:00:29\n",
      "   ------- -------------------------------- 3.1/16.4 MB 470.5 kB/s eta 0:00:29\n",
      "   ------- -------------------------------- 3.1/16.4 MB 470.5 kB/s eta 0:00:29\n",
      "   -------- ------------------------------- 3.4/16.4 MB 389.9 kB/s eta 0:00:34\n",
      "   -------- ------------------------------- 3.7/16.4 MB 417.2 kB/s eta 0:00:31\n",
      "   -------- ------------------------------- 3.7/16.4 MB 417.2 kB/s eta 0:00:31\n",
      "   -------- ------------------------------- 3.7/16.4 MB 417.2 kB/s eta 0:00:31\n",
      "   --------- ------------------------------ 3.9/16.4 MB 419.4 kB/s eta 0:00:30\n",
      "   --------- ------------------------------ 3.9/16.4 MB 419.4 kB/s eta 0:00:30\n",
      "   ---------- ----------------------------- 4.5/16.4 MB 453.6 kB/s eta 0:00:27\n",
      "   ---------- ----------------------------- 4.5/16.4 MB 453.6 kB/s eta 0:00:27\n",
      "   ----------- ---------------------------- 4.7/16.4 MB 463.7 kB/s eta 0:00:26\n",
      "   ----------- ---------------------------- 4.7/16.4 MB 463.7 kB/s eta 0:00:26\n",
      "   ------------ --------------------------- 5.0/16.4 MB 470.7 kB/s eta 0:00:25\n",
      "   ------------ --------------------------- 5.2/16.4 MB 483.5 kB/s eta 0:00:24\n",
      "   ------------ --------------------------- 5.2/16.4 MB 483.5 kB/s eta 0:00:24\n",
      "   ------------ --------------------------- 5.2/16.4 MB 483.5 kB/s eta 0:00:24\n",
      "   ------------- -------------------------- 5.5/16.4 MB 476.3 kB/s eta 0:00:23\n",
      "   ------------- -------------------------- 5.5/16.4 MB 476.3 kB/s eta 0:00:23\n",
      "   -------------- ------------------------- 5.8/16.4 MB 485.3 kB/s eta 0:00:22\n",
      "   -------------- ------------------------- 5.8/16.4 MB 485.3 kB/s eta 0:00:22\n",
      "   -------------- ------------------------- 5.8/16.4 MB 485.3 kB/s eta 0:00:22\n",
      "   -------------- ------------------------- 6.0/16.4 MB 478.1 kB/s eta 0:00:22\n",
      "   --------------- ------------------------ 6.3/16.4 MB 494.5 kB/s eta 0:00:21\n",
      "   ---------------- ----------------------- 6.8/16.4 MB 529.8 kB/s eta 0:00:19\n",
      "   ---------------- ----------------------- 6.8/16.4 MB 529.8 kB/s eta 0:00:19\n",
      "   ---------------- ----------------------- 6.8/16.4 MB 529.8 kB/s eta 0:00:19\n",
      "   ----------------- ---------------------- 7.1/16.4 MB 527.4 kB/s eta 0:00:18\n",
      "   ----------------- ---------------------- 7.1/16.4 MB 527.4 kB/s eta 0:00:18\n",
      "   ------------------ --------------------- 7.6/16.4 MB 543.3 kB/s eta 0:00:17\n",
      "   ------------------- -------------------- 8.1/16.4 MB 575.6 kB/s eta 0:00:15\n",
      "   --------------------- ------------------ 8.7/16.4 MB 603.4 kB/s eta 0:00:13\n",
      "   ---------------------- ----------------- 9.2/16.4 MB 635.9 kB/s eta 0:00:12\n",
      "   ----------------------- ---------------- 9.4/16.4 MB 641.4 kB/s eta 0:00:11\n",
      "   ----------------------- ---------------- 9.4/16.4 MB 641.4 kB/s eta 0:00:11\n",
      "   ------------------------ --------------- 10.2/16.4 MB 677.0 kB/s eta 0:00:10\n",
      "   --------------------------- ------------ 11.3/16.4 MB 736.2 kB/s eta 0:00:07\n",
      "   ----------------------------- ---------- 12.1/16.4 MB 777.8 kB/s eta 0:00:06\n",
      "   ------------------------------- -------- 13.1/16.4 MB 835.2 kB/s eta 0:00:04\n",
      "   --------------------------------- ------ 13.9/16.4 MB 876.6 kB/s eta 0:00:03\n",
      "   ------------------------------------ --- 14.9/16.4 MB 931.9 kB/s eta 0:00:02\n",
      "   ------------------------------------- -- 15.2/16.4 MB 936.6 kB/s eta 0:00:02\n",
      "   -------------------------------------- - 15.7/16.4 MB 958.4 kB/s eta 0:00:01\n",
      "   ---------------------------------------  16.0/16.4 MB 967.1 kB/s eta 0:00:01\n",
      "   ---------------------------------------  16.3/16.4 MB 970.4 kB/s eta 0:00:01\n",
      "   ---------------------------------------- 16.4/16.4 MB 962.1 kB/s  0:00:16\n",
      "Installing collected packages: mysql-connector-python\n",
      "Successfully installed mysql-connector-python-9.4.0\n"
     ]
    }
   ],
   "source": [
    "!pip install mysql-connector-python"
   ]
  },
  {
   "cell_type": "code",
   "execution_count": 26,
   "id": "3b261048-7fb5-40f8-9cc9-d0d568aefe25",
   "metadata": {},
   "outputs": [],
   "source": [
    "import mysql.connector"
   ]
  },
  {
   "cell_type": "code",
   "execution_count": 44,
   "id": "81458b5c-a34e-4710-912f-e726cb8c8551",
   "metadata": {},
   "outputs": [
    {
     "name": "stderr",
     "output_type": "stream",
     "text": [
      "C:\\Users\\Mohd Uzaif\\AppData\\Local\\Temp\\ipykernel_7688\\434038911.py:10: UserWarning: pandas only supports SQLAlchemy connectable (engine/connection) or database string URI or sqlite3 DBAPI2 connection. Other DBAPI2 objects are not tested. Please consider using SQLAlchemy.\n",
      "  invoices = pd.read_sql(\"SELECT * FROM invoices\", conn)\n"
     ]
    }
   ],
   "source": [
    "\n",
    "# Connect to MySQL\n",
    "conn = mysql.connector.connect(\n",
    "    host=\"localhost\",       # XAMPP MySQL server\n",
    "    user=\"root\",            # Default user\n",
    "    password=\"\",            # Empty password in XAMPP by default\n",
    "    database=\"supermarket\"  # Your database name\n",
    ")\n",
    "\n",
    "# Load table into pandas DataFrame\n",
    "invoices = pd.read_sql(\"SELECT * FROM invoices\", conn)\n",
    "\n",
    "# Close connection\n",
    "# conn.close()\n"
   ]
  },
  {
   "cell_type": "code",
   "execution_count": 45,
   "id": "3e59274d-eead-459c-91c4-c4a56fbb68f7",
   "metadata": {},
   "outputs": [
    {
     "name": "stderr",
     "output_type": "stream",
     "text": [
      "C:\\Users\\Mohd Uzaif\\AppData\\Local\\Temp\\ipykernel_7688\\1105109477.py:1: UserWarning: pandas only supports SQLAlchemy connectable (engine/connection) or database string URI or sqlite3 DBAPI2 connection. Other DBAPI2 objects are not tested. Please consider using SQLAlchemy.\n",
      "  orders = pd.read_sql(\"SELECT * FROM orderleads\", conn)\n"
     ]
    }
   ],
   "source": [
    "orders = pd.read_sql(\"SELECT * FROM orderleads\", conn)"
   ]
  },
  {
   "cell_type": "code",
   "execution_count": 46,
   "id": "1bf99f55-cb81-4cd7-a860-75b9a720ce24",
   "metadata": {},
   "outputs": [
    {
     "name": "stderr",
     "output_type": "stream",
     "text": [
      "C:\\Users\\Mohd Uzaif\\AppData\\Local\\Temp\\ipykernel_7688\\2412024936.py:1: UserWarning: pandas only supports SQLAlchemy connectable (engine/connection) or database string URI or sqlite3 DBAPI2 connection. Other DBAPI2 objects are not tested. Please consider using SQLAlchemy.\n",
      "  salesteam = pd.read_sql(\"SELECT * FROM salesteam\", conn)\n"
     ]
    }
   ],
   "source": [
    "salesteam = pd.read_sql(\"SELECT * FROM salesteam\", conn)"
   ]
  },
  {
   "cell_type": "code",
   "execution_count": 52,
   "id": "54e0c808-30d5-453d-b4ea-b3b1949b79fb",
   "metadata": {},
   "outputs": [],
   "source": [
    "# Close connection\n",
    "conn.close()"
   ]
  },
  {
   "cell_type": "code",
   "execution_count": 47,
   "id": "b8ac8d74-ba49-4a54-b1b4-67d6b7a779af",
   "metadata": {},
   "outputs": [
    {
     "data": {
      "text/html": [
       "<div>\n",
       "<style scoped>\n",
       "    .dataframe tbody tr th:only-of-type {\n",
       "        vertical-align: middle;\n",
       "    }\n",
       "\n",
       "    .dataframe tbody tr th {\n",
       "        vertical-align: top;\n",
       "    }\n",
       "\n",
       "    .dataframe thead th {\n",
       "        text-align: right;\n",
       "    }\n",
       "</style>\n",
       "<table border=\"1\" class=\"dataframe\">\n",
       "  <thead>\n",
       "    <tr style=\"text-align: right;\">\n",
       "      <th></th>\n",
       "      <th>Order Id</th>\n",
       "      <th>Company Id</th>\n",
       "      <th>Company Name</th>\n",
       "      <th>Date</th>\n",
       "      <th>Order Value</th>\n",
       "      <th>Converted</th>\n",
       "    </tr>\n",
       "  </thead>\n",
       "  <tbody>\n",
       "    <tr>\n",
       "      <th>0</th>\n",
       "      <td>80EYLOKP9E762WKG</td>\n",
       "      <td>LJKS5NK6788CYMUU</td>\n",
       "      <td>Chimera-Chasing Casbah</td>\n",
       "      <td>18-02-2017</td>\n",
       "      <td>4875</td>\n",
       "      <td>1</td>\n",
       "    </tr>\n",
       "    <tr>\n",
       "      <th>1</th>\n",
       "      <td>TLEXR1HZWTUTBHPB</td>\n",
       "      <td>LJKS5NK6788CYMUU</td>\n",
       "      <td>Chimera-Chasing Casbah</td>\n",
       "      <td>30-07-2015</td>\n",
       "      <td>8425</td>\n",
       "      <td>0</td>\n",
       "    </tr>\n",
       "    <tr>\n",
       "      <th>2</th>\n",
       "      <td>839FKFW2LLX4LMBB</td>\n",
       "      <td>LJKS5NK6788CYMUU</td>\n",
       "      <td>Chimera-Chasing Casbah</td>\n",
       "      <td>27-05-2016</td>\n",
       "      <td>4837</td>\n",
       "      <td>0</td>\n",
       "    </tr>\n",
       "    <tr>\n",
       "      <th>3</th>\n",
       "      <td>97OX39BGVMHODLJM</td>\n",
       "      <td>LJKS5NK6788CYMUU</td>\n",
       "      <td>Chimera-Chasing Casbah</td>\n",
       "      <td>27-09-2018</td>\n",
       "      <td>343</td>\n",
       "      <td>0</td>\n",
       "    </tr>\n",
       "    <tr>\n",
       "      <th>4</th>\n",
       "      <td>5T4LGH4XGBWOD49Z</td>\n",
       "      <td>LJKS5NK6788CYMUU</td>\n",
       "      <td>Chimera-Chasing Casbah</td>\n",
       "      <td>14-01-2016</td>\n",
       "      <td>983</td>\n",
       "      <td>0</td>\n",
       "    </tr>\n",
       "  </tbody>\n",
       "</table>\n",
       "</div>"
      ],
      "text/plain": [
       "           Order Id        Company Id            Company Name        Date  \\\n",
       "0  80EYLOKP9E762WKG  LJKS5NK6788CYMUU  Chimera-Chasing Casbah  18-02-2017   \n",
       "1  TLEXR1HZWTUTBHPB  LJKS5NK6788CYMUU  Chimera-Chasing Casbah  30-07-2015   \n",
       "2  839FKFW2LLX4LMBB  LJKS5NK6788CYMUU  Chimera-Chasing Casbah  27-05-2016   \n",
       "3  97OX39BGVMHODLJM  LJKS5NK6788CYMUU  Chimera-Chasing Casbah  27-09-2018   \n",
       "4  5T4LGH4XGBWOD49Z  LJKS5NK6788CYMUU  Chimera-Chasing Casbah  14-01-2016   \n",
       "\n",
       "   Order Value  Converted  \n",
       "0         4875          1  \n",
       "1         8425          0  \n",
       "2         4837          0  \n",
       "3          343          0  \n",
       "4          983          0  "
      ]
     },
     "execution_count": 47,
     "metadata": {},
     "output_type": "execute_result"
    }
   ],
   "source": [
    "orders.head()"
   ]
  },
  {
   "cell_type": "code",
   "execution_count": 48,
   "id": "6065c91b-079b-4427-a3b2-6895cbbbc93e",
   "metadata": {},
   "outputs": [
    {
     "data": {
      "text/html": [
       "<div>\n",
       "<style scoped>\n",
       "    .dataframe tbody tr th:only-of-type {\n",
       "        vertical-align: middle;\n",
       "    }\n",
       "\n",
       "    .dataframe tbody tr th {\n",
       "        vertical-align: top;\n",
       "    }\n",
       "\n",
       "    .dataframe thead th {\n",
       "        text-align: right;\n",
       "    }\n",
       "</style>\n",
       "<table border=\"1\" class=\"dataframe\">\n",
       "  <thead>\n",
       "    <tr style=\"text-align: right;\">\n",
       "      <th></th>\n",
       "      <th>Order Id</th>\n",
       "      <th>Date</th>\n",
       "      <th>Meal Id</th>\n",
       "      <th>Company Id</th>\n",
       "      <th>Date of Meal</th>\n",
       "      <th>Participants</th>\n",
       "      <th>Meal Price</th>\n",
       "      <th>Type of Meal</th>\n",
       "    </tr>\n",
       "  </thead>\n",
       "  <tbody>\n",
       "    <tr>\n",
       "      <th>0</th>\n",
       "      <td>839FKFW2LLX4LMBB</td>\n",
       "      <td>27-05-2016</td>\n",
       "      <td>INBUX904GIHI8YBD</td>\n",
       "      <td>LJKS5NK6788CYMUU</td>\n",
       "      <td>2016-05-31 07:00:00+02:00</td>\n",
       "      <td>['David Bishop']</td>\n",
       "      <td>469</td>\n",
       "      <td>Breakfast</td>\n",
       "    </tr>\n",
       "    <tr>\n",
       "      <th>1</th>\n",
       "      <td>97OX39BGVMHODLJM</td>\n",
       "      <td>27-09-2018</td>\n",
       "      <td>J0MMOOPP709DIDIE</td>\n",
       "      <td>LJKS5NK6788CYMUU</td>\n",
       "      <td>2018-10-01 20:00:00+02:00</td>\n",
       "      <td>['David Bishop']</td>\n",
       "      <td>22</td>\n",
       "      <td>Dinner</td>\n",
       "    </tr>\n",
       "    <tr>\n",
       "      <th>2</th>\n",
       "      <td>041ORQM5OIHTIU6L</td>\n",
       "      <td>24-08-2014</td>\n",
       "      <td>E4UJLQNCI16UX5CS</td>\n",
       "      <td>LJKS5NK6788CYMUU</td>\n",
       "      <td>2014-08-23 14:00:00+02:00</td>\n",
       "      <td>['Karen Stansell']</td>\n",
       "      <td>314</td>\n",
       "      <td>Lunch</td>\n",
       "    </tr>\n",
       "    <tr>\n",
       "      <th>3</th>\n",
       "      <td>YT796QI18WNGZ7ZJ</td>\n",
       "      <td>2014-12-04 00:00:00</td>\n",
       "      <td>C9SDFHF7553BE247</td>\n",
       "      <td>LJKS5NK6788CYMUU</td>\n",
       "      <td>2014-04-07 21:00:00+02:00</td>\n",
       "      <td>['Addie Patino']</td>\n",
       "      <td>438</td>\n",
       "      <td>Dinner</td>\n",
       "    </tr>\n",
       "    <tr>\n",
       "      <th>4</th>\n",
       "      <td>6YLROQT27B6HRF4E</td>\n",
       "      <td>28-07-2015</td>\n",
       "      <td>48EQXS6IHYNZDDZ5</td>\n",
       "      <td>LJKS5NK6788CYMUU</td>\n",
       "      <td>2015-07-27 14:00:00+02:00</td>\n",
       "      <td>['Addie Patino' 'Susan Guerrero']</td>\n",
       "      <td>690</td>\n",
       "      <td>Lunch</td>\n",
       "    </tr>\n",
       "  </tbody>\n",
       "</table>\n",
       "</div>"
      ],
      "text/plain": [
       "           Order Id                 Date           Meal Id        Company Id  \\\n",
       "0  839FKFW2LLX4LMBB           27-05-2016  INBUX904GIHI8YBD  LJKS5NK6788CYMUU   \n",
       "1  97OX39BGVMHODLJM           27-09-2018  J0MMOOPP709DIDIE  LJKS5NK6788CYMUU   \n",
       "2  041ORQM5OIHTIU6L           24-08-2014  E4UJLQNCI16UX5CS  LJKS5NK6788CYMUU   \n",
       "3  YT796QI18WNGZ7ZJ  2014-12-04 00:00:00  C9SDFHF7553BE247  LJKS5NK6788CYMUU   \n",
       "4  6YLROQT27B6HRF4E           28-07-2015  48EQXS6IHYNZDDZ5  LJKS5NK6788CYMUU   \n",
       "\n",
       "                Date of Meal                       Participants  Meal Price  \\\n",
       "0  2016-05-31 07:00:00+02:00                   ['David Bishop']         469   \n",
       "1  2018-10-01 20:00:00+02:00                   ['David Bishop']          22   \n",
       "2  2014-08-23 14:00:00+02:00                 ['Karen Stansell']         314   \n",
       "3  2014-04-07 21:00:00+02:00                   ['Addie Patino']         438   \n",
       "4  2015-07-27 14:00:00+02:00  ['Addie Patino' 'Susan Guerrero']         690   \n",
       "\n",
       "  Type of Meal  \n",
       "0    Breakfast  \n",
       "1       Dinner  \n",
       "2        Lunch  \n",
       "3       Dinner  \n",
       "4        Lunch  "
      ]
     },
     "execution_count": 48,
     "metadata": {},
     "output_type": "execute_result"
    }
   ],
   "source": [
    "invoices.head()"
   ]
  },
  {
   "cell_type": "code",
   "execution_count": 49,
   "id": "773c4409-375d-47b9-9128-c171532d772d",
   "metadata": {},
   "outputs": [
    {
     "data": {
      "text/html": [
       "<div>\n",
       "<style scoped>\n",
       "    .dataframe tbody tr th:only-of-type {\n",
       "        vertical-align: middle;\n",
       "    }\n",
       "\n",
       "    .dataframe tbody tr th {\n",
       "        vertical-align: top;\n",
       "    }\n",
       "\n",
       "    .dataframe thead th {\n",
       "        text-align: right;\n",
       "    }\n",
       "</style>\n",
       "<table border=\"1\" class=\"dataframe\">\n",
       "  <thead>\n",
       "    <tr style=\"text-align: right;\">\n",
       "      <th></th>\n",
       "      <th>Sales Rep</th>\n",
       "      <th>Sales Rep Id</th>\n",
       "      <th>Company Name</th>\n",
       "      <th>Company Id</th>\n",
       "    </tr>\n",
       "  </thead>\n",
       "  <tbody>\n",
       "    <tr>\n",
       "      <th>0</th>\n",
       "      <td>Jessie Mcallister</td>\n",
       "      <td>97UNNAT790E0WM4N</td>\n",
       "      <td>Chimera-Chasing Casbah</td>\n",
       "      <td>LJKS5NK6788CYMUU</td>\n",
       "    </tr>\n",
       "    <tr>\n",
       "      <th>1</th>\n",
       "      <td>Jessie Mcallister</td>\n",
       "      <td>97UNNAT790E0WM4N</td>\n",
       "      <td>Tangential Sheds</td>\n",
       "      <td>36MFTZOYMTAJP1RK</td>\n",
       "    </tr>\n",
       "    <tr>\n",
       "      <th>2</th>\n",
       "      <td>Jessie Mcallister</td>\n",
       "      <td>97UNNAT790E0WM4N</td>\n",
       "      <td>Two-Mile Grab</td>\n",
       "      <td>H3JRC7XX7WJAD4ZO</td>\n",
       "    </tr>\n",
       "    <tr>\n",
       "      <th>3</th>\n",
       "      <td>Jessie Mcallister</td>\n",
       "      <td>97UNNAT790E0WM4N</td>\n",
       "      <td>Three-Men-And-A-Helper Congo'S</td>\n",
       "      <td>HB25MDZR0MGCQUGX</td>\n",
       "    </tr>\n",
       "    <tr>\n",
       "      <th>4</th>\n",
       "      <td>Jessie Mcallister</td>\n",
       "      <td>97UNNAT790E0WM4N</td>\n",
       "      <td>Biophysical Battleground</td>\n",
       "      <td>7RVA8TIVBLBXMNO4</td>\n",
       "    </tr>\n",
       "  </tbody>\n",
       "</table>\n",
       "</div>"
      ],
      "text/plain": [
       "           Sales Rep      Sales Rep Id                    Company Name  \\\n",
       "0  Jessie Mcallister  97UNNAT790E0WM4N          Chimera-Chasing Casbah   \n",
       "1  Jessie Mcallister  97UNNAT790E0WM4N                Tangential Sheds   \n",
       "2  Jessie Mcallister  97UNNAT790E0WM4N                   Two-Mile Grab   \n",
       "3  Jessie Mcallister  97UNNAT790E0WM4N  Three-Men-And-A-Helper Congo'S   \n",
       "4  Jessie Mcallister  97UNNAT790E0WM4N        Biophysical Battleground   \n",
       "\n",
       "         Company Id  \n",
       "0  LJKS5NK6788CYMUU  \n",
       "1  36MFTZOYMTAJP1RK  \n",
       "2  H3JRC7XX7WJAD4ZO  \n",
       "3  HB25MDZR0MGCQUGX  \n",
       "4  7RVA8TIVBLBXMNO4  "
      ]
     },
     "execution_count": 49,
     "metadata": {},
     "output_type": "execute_result"
    }
   ],
   "source": [
    "salesteam.head()"
   ]
  },
  {
   "cell_type": "markdown",
   "id": "e3939fc0-9a0b-4231-9d0d-45210e380974",
   "metadata": {},
   "source": [
    "#### Write all these dataframe into excel file on different sheet of that excel file."
   ]
  },
  {
   "cell_type": "code",
   "execution_count": 51,
   "id": "95b2f068-6090-449f-a95a-03b85c9dc381",
   "metadata": {},
   "outputs": [],
   "source": [
    "with pd.ExcelWriter('./Export_Datasets/supermarket.xlsx') as writer: \n",
    "    invoices.to_excel(writer, sheet_name ='Invoices')\n",
    "    orders.to_excel(writer, sheet_name = 'Orders')\n",
    "    salesteam.to_excel(writer, sheet_name = 'Sales Team')\n",
    "    "
   ]
  },
  {
   "cell_type": "markdown",
   "id": "7b7de505-9214-4d93-a567-69ea406f78eb",
   "metadata": {},
   "source": [
    "### Problem-2\n",
    "\n",
    "Go to the site: https://rapidapi.com/wirefreethought/api/geodb-cities. From here, you have to grab the API and have to choose proper routes to get the cities of different countries. After getting the right API, hit that API and create a dataframe of all the cities that you can get by using the API. Then store the dataframe to a SQL. If you need to create an account or have to subscribe, then do that (it has free subscription but has some limitations. Use that free subscription and modify your accordingly to get all the data).  "
   ]
  },
  {
   "cell_type": "code",
   "execution_count": 59,
   "id": "0b53734f-3584-4207-a60b-3badd4e3ce0d",
   "metadata": {},
   "outputs": [],
   "source": [
    "import json"
   ]
  },
  {
   "cell_type": "code",
   "execution_count": 66,
   "id": "034d6155-89eb-4609-ad58-b4c729974dd0",
   "metadata": {},
   "outputs": [],
   "source": [
    "import http.client\n",
    "\n",
    "conn = http.client.HTTPSConnection(\"wft-geo-db.p.rapidapi.com\")\n",
    "\n",
    "headers = {\n",
    "    'x-rapidapi-key': \"d6dbc020c7msh3d9d85fb52cfddcp1c6e92jsn8d18fbda6433\",\n",
    "    'x-rapidapi-host': \"wft-geo-db.p.rapidapi.com\"\n",
    "}\n",
    "\n",
    "conn.request(\"GET\", \"/v1/geo/cities\", headers=headers)\n",
    "\n",
    "res = conn.getresponse()\n",
    "data = res.read()"
   ]
  },
  {
   "cell_type": "code",
   "execution_count": 67,
   "id": "9a0746bd-aa6e-4ead-ac2d-6f26d95acd2d",
   "metadata": {},
   "outputs": [],
   "source": [
    "data = json.loads(data.decode(\"utf-8\"))"
   ]
  },
  {
   "cell_type": "code",
   "execution_count": 79,
   "id": "33a069c2-81b2-43a1-9cf9-6a394e41c1cd",
   "metadata": {},
   "outputs": [],
   "source": [
    "cities = pd.DataFrame(data['data'])"
   ]
  },
  {
   "cell_type": "markdown",
   "id": "36fe11cd-474c-4dda-97c4-1c5274c0d3fa",
   "metadata": {},
   "source": [
    "#### Export data to sql "
   ]
  },
  {
   "cell_type": "code",
   "execution_count": 81,
   "id": "2312976b-8722-4383-a8a0-101b359f3fe6",
   "metadata": {},
   "outputs": [],
   "source": [
    "import pymysql\n",
    "from sqlalchemy import create_engine"
   ]
  },
  {
   "cell_type": "code",
   "execution_count": 83,
   "id": "303386be-8dcd-493a-a4e7-194979776931",
   "metadata": {},
   "outputs": [
    {
     "data": {
      "text/plain": [
       "5"
      ]
     },
     "execution_count": 83,
     "metadata": {},
     "output_type": "execute_result"
    }
   ],
   "source": [
    "# Syntax for this argument in create_engine(\"mysql+pymysql://root:{password}@{url}/{database_name}\")\n",
    "engine = create_engine(\"mysql+pymysql://root:@localhost/cities\")\n",
    "cities.to_sql('cities_data', con=engine, if_exists='append', index=False)"
   ]
  },
  {
   "cell_type": "markdown",
   "id": "2e9c7fda-c3ec-438e-b80d-fca48a1b768b",
   "metadata": {},
   "source": [
    "### Problem 3:\n",
    "\n",
    "Go to this url: https://www.flipkart.com/search?q=smartphones. This is the url to find phones in flipkart website. You have to extract the below things:\n",
    "1. image url of the phone\n",
    "2. name of the image\n",
    "3. average ratings\n",
    "4. total ratings\n",
    "5. total reviews\n",
    "6. discounted price\n",
    "7. actual price\n",
    "\n",
    "Extract all the phones which are available in this website. So you have to use the pagination concept. **Also after requesting every page through the url, please wait for a while (minimum 2-3 seconds), otherwise your IP address can be banned to access the flipkart website later.**\n",
    "\n",
    "After collecting all the data, save that in a JSON file."
   ]
  },
  {
   "cell_type": "code",
   "execution_count": 215,
   "id": "394aff0a-47f3-4b68-9943-08538d9c096c",
   "metadata": {},
   "outputs": [],
   "source": [
    "from bs4 import BeautifulSoup\n",
    "import time\n",
    "import random"
   ]
  },
  {
   "cell_type": "code",
   "execution_count": 194,
   "id": "6fb7c575-0a3b-48c4-964b-8f5fc5393fc6",
   "metadata": {},
   "outputs": [],
   "source": [
    "url = 'https://www.flipkart.com/search?q=smartphones&page=1'\n",
    "headers = {\n",
    "    \"User-Agent\": \"Mozilla/5.0 (Windows NT 10.0; Win64; x64) \"\n",
    "                  \"AppleWebKit/537.36 (KHTML, like Gecko) \"\n",
    "                  \"Chrome/115.0.0.0 Safari/537.36\"\n",
    "}\n",
    "response_webpage = requests.get(url, headers = headers)"
   ]
  },
  {
   "cell_type": "code",
   "execution_count": 113,
   "id": "97bcefa9-40d7-49f0-b188-9554513129ba",
   "metadata": {},
   "outputs": [],
   "source": [
    "soup = BeautifulSoup(response_webpage.text, 'html.parser')"
   ]
  },
  {
   "cell_type": "code",
   "execution_count": 114,
   "id": "80300578-9880-4ad2-baeb-6b0703bad324",
   "metadata": {},
   "outputs": [
    {
     "name": "stdout",
     "output_type": "stream",
     "text": [
      "<class 'bs4.BeautifulSoup'>\n"
     ]
    }
   ],
   "source": [
    "print(type(soup))"
   ]
  },
  {
   "cell_type": "code",
   "execution_count": 115,
   "id": "ffefdaa8-4763-4ddb-8adb-11051a47ec74",
   "metadata": {},
   "outputs": [],
   "source": [
    "all_phones = soup.find_all('div', class_ = 'tUxRFH')"
   ]
  },
  {
   "cell_type": "code",
   "execution_count": 128,
   "id": "c75f5a1c-1f89-4b45-8c1f-f0fd6ca0ec65",
   "metadata": {},
   "outputs": [
    {
     "data": {
      "text/plain": [
       "'Samsung Galaxy F05 (Twilight Blue, 64 GB)'"
      ]
     },
     "execution_count": 128,
     "metadata": {},
     "output_type": "execute_result"
    }
   ],
   "source": [
    "# find the name of the phone.\n",
    "all_phones[0].find_all('div', class_ = 'col-7-12')[0].find('div', class_ = 'KzDlHZ').text"
   ]
  },
  {
   "cell_type": "code",
   "execution_count": 134,
   "id": "fb97a37a-a7c2-4aa1-8989-a71d9fa48f07",
   "metadata": {},
   "outputs": [
    {
     "data": {
      "text/plain": [
       "'https://rukminim2.flixcart.com/image/312/312/xif0q/mobile/e/r/f/-original-imah56hkgehywn5b.jpeg?q=70'"
      ]
     },
     "execution_count": 134,
     "metadata": {},
     "output_type": "execute_result"
    }
   ],
   "source": [
    "# find the imaage url. \n",
    "all_phones[0].find('img', class_ = 'DByuf4')['src']"
   ]
  },
  {
   "cell_type": "code",
   "execution_count": 137,
   "id": "9c898802-7ee9-4634-b89a-3d23f2b8bf70",
   "metadata": {},
   "outputs": [
    {
     "data": {
      "text/plain": [
       "'4.2'"
      ]
     },
     "execution_count": 137,
     "metadata": {},
     "output_type": "execute_result"
    }
   ],
   "source": [
    "# find the rating of the phone. \n",
    "all_phones[0].find('div', class_ = 'XQDdHH').text"
   ]
  },
  {
   "cell_type": "code",
   "execution_count": 176,
   "id": "7e1afeb9-91ea-4939-b815-f798156af034",
   "metadata": {},
   "outputs": [
    {
     "name": "stdout",
     "output_type": "stream",
     "text": [
      "62,997 Ratings\n",
      "3,581 Reviews\n"
     ]
    }
   ],
   "source": [
    "# find all the total ratings and reviews\n",
    "rating_review_tag = all_phones[0].find_all('span', class_ = 'Wphh3N')[0]\n",
    "print(rating_review_tag.find_all('span')[1].text.strip())\n",
    "print(rating_review_tag.find_all('span')[3].text.strip())"
   ]
  },
  {
   "cell_type": "code",
   "execution_count": 192,
   "id": "15adf34c-a43e-4870-9783-60a600e3708c",
   "metadata": {},
   "outputs": [
    {
     "data": {
      "text/plain": [
       "'₹6,249'"
      ]
     },
     "execution_count": 192,
     "metadata": {},
     "output_type": "execute_result"
    }
   ],
   "source": [
    "# find the price with discount of the phone. \n",
    "all_phones[0].find('div', class_ = 'Nx9bqj').text"
   ]
  },
  {
   "cell_type": "code",
   "execution_count": 193,
   "id": "8b24a29a-d5c3-40ee-8b0d-6d1be2ca1a23",
   "metadata": {},
   "outputs": [
    {
     "data": {
      "text/plain": [
       "'₹9,999'"
      ]
     },
     "execution_count": 193,
     "metadata": {},
     "output_type": "execute_result"
    }
   ],
   "source": [
    "# find the price without discount of the phone. \n",
    "all_phones[0].find('div', class_ = 'yRaY8j').text"
   ]
  },
  {
   "cell_type": "code",
   "execution_count": 221,
   "id": "52d0babf-4c62-4e65-95e3-ae91a60b6997",
   "metadata": {},
   "outputs": [
    {
     "name": "stdout",
     "output_type": "stream",
     "text": [
      "Waiting 4.84 seconds before next request...\n",
      "Waiting 4.11 seconds before next request...\n",
      "Waiting 3.44 seconds before next request...\n",
      "Waiting 2.80 seconds before next request...\n",
      "Waiting 2.49 seconds before next request...\n",
      "Waiting 4.03 seconds before next request...\n",
      "Waiting 4.04 seconds before next request...\n",
      "Waiting 3.92 seconds before next request...\n",
      "Waiting 2.77 seconds before next request...\n",
      "Waiting 4.22 seconds before next request...\n"
     ]
    }
   ],
   "source": [
    "headers = {\n",
    "    \"User-Agent\": \"Mozilla/5.0 (Windows NT 10.0; Win64; x64) \"\n",
    "                  \"AppleWebKit/537.36 (KHTML, like Gecko) \"\n",
    "                  \"Chrome/115.0.0.0 Safari/537.36\"\n",
    "}\n",
    "\n",
    "phone_name = []\n",
    "image_url = [] \n",
    "ratings = []\n",
    "total_ratings = [] \n",
    "total_reviews = []\n",
    "prices_with_discount = []\n",
    "prices_without_discount = []\n",
    "\n",
    "for i in range(1, 11): \n",
    "    url = 'https://www.flipkart.com/search?q=smartphones&page={}'.format(i)\n",
    "    response_webpage = requests.get(url, headers = headers)\n",
    "\n",
    "    soup = BeautifulSoup(response_webpage.text, 'html.parser')\n",
    "\n",
    "    # Scaping code start from here. \n",
    "    all_phones = soup.find_all('div', class_ = 'tUxRFH')\n",
    "    for phone in all_phones: \n",
    "        # find the name of the phone.\n",
    "        phone_name.append(phone.find_all('div', class_ = 'col-7-12')[0].find('div', class_ = 'KzDlHZ').text)\n",
    "        \n",
    "        # find the image url. \n",
    "        image_url.append(phone.find('img', class_ = 'DByuf4')['src'])\n",
    "        \n",
    "        # find the rating of the phone. \n",
    "        ratings.append(phone.find('div', class_ = 'XQDdHH').text)\n",
    "\n",
    "        # find all the total ratings and reviews\n",
    "        rating_review_tag = phone.find_all('span', class_ = 'Wphh3N')[0]\n",
    "        total_ratings.append(rating_review_tag.find_all('span')[1].text.strip())\n",
    "        total_reviews.append(rating_review_tag.find_all('span')[3].text.strip())\n",
    "\n",
    "        # find the price with discount of the phone. \n",
    "        prices_with_discount.append(phone.find('div', class_ = 'Nx9bqj').text)\n",
    "\n",
    "        # find the price without discount of the phone. \n",
    "        prices_without_discount.append(phone.find('div', class_ = 'yRaY8j').text)\n",
    "\n",
    "    # here we sleep for 3 seconds\n",
    "    delay = random.uniform(2, 5)\n",
    "    print(f\"Waiting {delay:.2f} seconds before next request...\")\n",
    "    time.sleep(delay)\n",
    "\n",
    "final_data = {\n",
    "    'Name' : phone_name,\n",
    "    'Image URL' : image_url,  \n",
    "    'Ratings' : ratings,\n",
    "    'Total Ratings' : total_ratings, \n",
    "    'Total Reviews' : total_reviews,  \n",
    "    'Price(with discount)' : prices_with_discount, \n",
    "    'Price (without discount)' : prices_without_discount\n",
    "}"
   ]
  },
  {
   "cell_type": "code",
   "execution_count": 222,
   "id": "a60c882b-50a9-49ee-a2a5-93aa2195e184",
   "metadata": {
    "scrolled": true
   },
   "outputs": [],
   "source": [
    "phone_df = pd.DataFrame(final_data)"
   ]
  },
  {
   "cell_type": "code",
   "execution_count": 224,
   "id": "eeba6762-62bb-425d-b0b2-0fedc6f954b3",
   "metadata": {},
   "outputs": [
    {
     "data": {
      "text/plain": [
       "(240, 7)"
      ]
     },
     "execution_count": 224,
     "metadata": {},
     "output_type": "execute_result"
    }
   ],
   "source": [
    "phone_df.shape"
   ]
  },
  {
   "cell_type": "code",
   "execution_count": 226,
   "id": "8e87f9a9-90b3-4d1c-b870-654f2c5a58f9",
   "metadata": {},
   "outputs": [
    {
     "data": {
      "text/html": [
       "<div>\n",
       "<style scoped>\n",
       "    .dataframe tbody tr th:only-of-type {\n",
       "        vertical-align: middle;\n",
       "    }\n",
       "\n",
       "    .dataframe tbody tr th {\n",
       "        vertical-align: top;\n",
       "    }\n",
       "\n",
       "    .dataframe thead th {\n",
       "        text-align: right;\n",
       "    }\n",
       "</style>\n",
       "<table border=\"1\" class=\"dataframe\">\n",
       "  <thead>\n",
       "    <tr style=\"text-align: right;\">\n",
       "      <th></th>\n",
       "      <th>Name</th>\n",
       "      <th>Image URL</th>\n",
       "      <th>Ratings</th>\n",
       "      <th>Total Ratings</th>\n",
       "      <th>Total Reviews</th>\n",
       "      <th>Price(with discount)</th>\n",
       "      <th>Price (without discount)</th>\n",
       "    </tr>\n",
       "  </thead>\n",
       "  <tbody>\n",
       "    <tr>\n",
       "      <th>0</th>\n",
       "      <td>Samsung Galaxy F05 (Twilight Blue, 64 GB)</td>\n",
       "      <td>https://rukminim2.flixcart.com/image/312/312/x...</td>\n",
       "      <td>4.2</td>\n",
       "      <td>62,997 Ratings</td>\n",
       "      <td>3,581 Reviews</td>\n",
       "      <td>₹6,249</td>\n",
       "      <td>₹9,999</td>\n",
       "    </tr>\n",
       "    <tr>\n",
       "      <th>1</th>\n",
       "      <td>MOTOROLA g05 (Forest Green, 64 GB)</td>\n",
       "      <td>https://rukminim2.flixcart.com/image/312/312/x...</td>\n",
       "      <td>4.2</td>\n",
       "      <td>46,394 Ratings</td>\n",
       "      <td>3,258 Reviews</td>\n",
       "      <td>₹6,999</td>\n",
       "      <td>₹9,999</td>\n",
       "    </tr>\n",
       "    <tr>\n",
       "      <th>2</th>\n",
       "      <td>REDMI A3X (Midnight Black, 64 GB)</td>\n",
       "      <td>https://rukminim2.flixcart.com/image/312/312/x...</td>\n",
       "      <td>4.1</td>\n",
       "      <td>10,170 Ratings</td>\n",
       "      <td>446 Reviews</td>\n",
       "      <td>₹5,999</td>\n",
       "      <td>₹9,999</td>\n",
       "    </tr>\n",
       "    <tr>\n",
       "      <th>3</th>\n",
       "      <td>POCO C71 (Desert Gold, 128 GB)</td>\n",
       "      <td>https://rukminim2.flixcart.com/image/312/312/x...</td>\n",
       "      <td>4.1</td>\n",
       "      <td>10,714 Ratings</td>\n",
       "      <td>577 Reviews</td>\n",
       "      <td>₹6,999</td>\n",
       "      <td>₹9,999</td>\n",
       "    </tr>\n",
       "    <tr>\n",
       "      <th>4</th>\n",
       "      <td>vivo T4R 5G (Twilight Blue, 128 GB)</td>\n",
       "      <td>https://rukminim2.flixcart.com/image/312/312/x...</td>\n",
       "      <td>4.6</td>\n",
       "      <td>2,435 Ratings</td>\n",
       "      <td>133 Reviews</td>\n",
       "      <td>₹19,499</td>\n",
       "      <td>₹23,499</td>\n",
       "    </tr>\n",
       "    <tr>\n",
       "      <th>5</th>\n",
       "      <td>MOTOROLA g05 (Plum Red, 64 GB)</td>\n",
       "      <td>https://rukminim2.flixcart.com/image/312/312/x...</td>\n",
       "      <td>4.2</td>\n",
       "      <td>46,394 Ratings</td>\n",
       "      <td>3,258 Reviews</td>\n",
       "      <td>₹6,999</td>\n",
       "      <td>₹9,999</td>\n",
       "    </tr>\n",
       "    <tr>\n",
       "      <th>6</th>\n",
       "      <td>vivo T4 Lite 5G Charger in the Box (Prism Blue...</td>\n",
       "      <td>https://rukminim2.flixcart.com/image/312/312/x...</td>\n",
       "      <td>4.4</td>\n",
       "      <td>10,174 Ratings</td>\n",
       "      <td>322 Reviews</td>\n",
       "      <td>₹10,999</td>\n",
       "      <td>₹14,999</td>\n",
       "    </tr>\n",
       "    <tr>\n",
       "      <th>7</th>\n",
       "      <td>Motorola g45 5G (Pantone Dahlia Purple, 128 GB)</td>\n",
       "      <td>https://rukminim2.flixcart.com/image/312/312/x...</td>\n",
       "      <td>4.3</td>\n",
       "      <td>1,99,872 Ratings</td>\n",
       "      <td>10,300 Reviews</td>\n",
       "      <td>₹11,999</td>\n",
       "      <td>₹14,999</td>\n",
       "    </tr>\n",
       "    <tr>\n",
       "      <th>8</th>\n",
       "      <td>MOTOROLA G86 Power 5G (Pantone Golden Cypress,...</td>\n",
       "      <td>https://rukminim2.flixcart.com/image/312/312/x...</td>\n",
       "      <td>4.4</td>\n",
       "      <td>1,236 Ratings</td>\n",
       "      <td>117 Reviews</td>\n",
       "      <td>₹17,999</td>\n",
       "      <td>₹19,999</td>\n",
       "    </tr>\n",
       "    <tr>\n",
       "      <th>9</th>\n",
       "      <td>POCO C75 5G (Aqua Bliss, 64 GB)</td>\n",
       "      <td>https://rukminim2.flixcart.com/image/312/312/x...</td>\n",
       "      <td>4.3</td>\n",
       "      <td>90,163 Ratings</td>\n",
       "      <td>4,341 Reviews</td>\n",
       "      <td>₹7,699</td>\n",
       "      <td>₹10,999</td>\n",
       "    </tr>\n",
       "  </tbody>\n",
       "</table>\n",
       "</div>"
      ],
      "text/plain": [
       "                                                Name  \\\n",
       "0          Samsung Galaxy F05 (Twilight Blue, 64 GB)   \n",
       "1                 MOTOROLA g05 (Forest Green, 64 GB)   \n",
       "2                  REDMI A3X (Midnight Black, 64 GB)   \n",
       "3                     POCO C71 (Desert Gold, 128 GB)   \n",
       "4                vivo T4R 5G (Twilight Blue, 128 GB)   \n",
       "5                     MOTOROLA g05 (Plum Red, 64 GB)   \n",
       "6  vivo T4 Lite 5G Charger in the Box (Prism Blue...   \n",
       "7    Motorola g45 5G (Pantone Dahlia Purple, 128 GB)   \n",
       "8  MOTOROLA G86 Power 5G (Pantone Golden Cypress,...   \n",
       "9                    POCO C75 5G (Aqua Bliss, 64 GB)   \n",
       "\n",
       "                                           Image URL Ratings  \\\n",
       "0  https://rukminim2.flixcart.com/image/312/312/x...     4.2   \n",
       "1  https://rukminim2.flixcart.com/image/312/312/x...     4.2   \n",
       "2  https://rukminim2.flixcart.com/image/312/312/x...     4.1   \n",
       "3  https://rukminim2.flixcart.com/image/312/312/x...     4.1   \n",
       "4  https://rukminim2.flixcart.com/image/312/312/x...     4.6   \n",
       "5  https://rukminim2.flixcart.com/image/312/312/x...     4.2   \n",
       "6  https://rukminim2.flixcart.com/image/312/312/x...     4.4   \n",
       "7  https://rukminim2.flixcart.com/image/312/312/x...     4.3   \n",
       "8  https://rukminim2.flixcart.com/image/312/312/x...     4.4   \n",
       "9  https://rukminim2.flixcart.com/image/312/312/x...     4.3   \n",
       "\n",
       "      Total Ratings   Total Reviews Price(with discount)  \\\n",
       "0    62,997 Ratings   3,581 Reviews               ₹6,249   \n",
       "1    46,394 Ratings   3,258 Reviews               ₹6,999   \n",
       "2    10,170 Ratings     446 Reviews               ₹5,999   \n",
       "3    10,714 Ratings     577 Reviews               ₹6,999   \n",
       "4     2,435 Ratings     133 Reviews              ₹19,499   \n",
       "5    46,394 Ratings   3,258 Reviews               ₹6,999   \n",
       "6    10,174 Ratings     322 Reviews              ₹10,999   \n",
       "7  1,99,872 Ratings  10,300 Reviews              ₹11,999   \n",
       "8     1,236 Ratings     117 Reviews              ₹17,999   \n",
       "9    90,163 Ratings   4,341 Reviews               ₹7,699   \n",
       "\n",
       "  Price (without discount)  \n",
       "0                   ₹9,999  \n",
       "1                   ₹9,999  \n",
       "2                   ₹9,999  \n",
       "3                   ₹9,999  \n",
       "4                  ₹23,499  \n",
       "5                   ₹9,999  \n",
       "6                  ₹14,999  \n",
       "7                  ₹14,999  \n",
       "8                  ₹19,999  \n",
       "9                  ₹10,999  "
      ]
     },
     "execution_count": 226,
     "metadata": {},
     "output_type": "execute_result"
    }
   ],
   "source": [
    "phone_df.head(10)"
   ]
  },
  {
   "cell_type": "markdown",
   "id": "30136288-6579-481d-92a1-a94b1f57c160",
   "metadata": {},
   "source": [
    "#### To export this dataframe into a JSON format."
   ]
  },
  {
   "cell_type": "code",
   "execution_count": 227,
   "id": "38b06518-4c00-4135-be56-5d1b95954481",
   "metadata": {},
   "outputs": [],
   "source": [
    "phone_df.to_json('./Export_Datasets/Mobile_Flipkart.json')"
   ]
  },
  {
   "cell_type": "code",
   "execution_count": null,
   "id": "2311c5db-d5b9-4f15-a299-bc1bdf9957dd",
   "metadata": {},
   "outputs": [],
   "source": []
  }
 ],
 "metadata": {
  "kernelspec": {
   "display_name": "Python 3 (ipykernel)",
   "language": "python",
   "name": "python3"
  },
  "language_info": {
   "codemirror_mode": {
    "name": "ipython",
    "version": 3
   },
   "file_extension": ".py",
   "mimetype": "text/x-python",
   "name": "python",
   "nbconvert_exporter": "python",
   "pygments_lexer": "ipython3",
   "version": "3.13.1"
  }
 },
 "nbformat": 4,
 "nbformat_minor": 5
}
